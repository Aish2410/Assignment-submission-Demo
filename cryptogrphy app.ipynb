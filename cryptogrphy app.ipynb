{
 "cells": [
  {
   "cell_type": "code",
   "execution_count": 2,
   "metadata": {},
   "outputs": [
    {
     "ename": "ModuleNotFoundError",
     "evalue": "No module named 'onetimepad'",
     "output_type": "error",
     "traceback": [
      "\u001b[1;31m---------------------------------------------------------------------------\u001b[0m",
      "\u001b[1;31mModuleNotFoundError\u001b[0m                       Traceback (most recent call last)",
      "\u001b[1;32m<ipython-input-2-fd277cc9faec>\u001b[0m in \u001b[0;36m<module>\u001b[1;34m\u001b[0m\n\u001b[1;32m----> 1\u001b[1;33m \u001b[1;32mimport\u001b[0m \u001b[0monetimepad\u001b[0m\u001b[1;33m\u001b[0m\u001b[1;33m\u001b[0m\u001b[0m\n\u001b[0m",
      "\u001b[1;31mModuleNotFoundError\u001b[0m: No module named 'onetimepad'"
     ]
    }
   ],
   "source": [
    "import onetimepad"
   ]
  },
  {
   "cell_type": "code",
   "execution_count": null,
   "metadata": {},
   "outputs": [],
   "source": [
    "#!pip install onetimepad"
   ]
  },
  {
   "cell_type": "code",
   "execution_count": null,
   "metadata": {},
   "outputs": [],
   "source": [
    "from tkinter import*\n",
    "#import tkinter\n",
    "\n",
    "root=Tk()\n",
    "root.title(\"chryptograohy App\")\n",
    "\n",
    "def encryptMessage():\n",
    "    a=var.get()\n",
    "    #Ritesh\n",
    "    ct=onetimepad.encrypt(a,\"letsupgrade\")\n",
    "    print(\"working\",ct)\n",
    "    \n",
    "    e2.delete(0,END)\n",
    "    e2.insert(END,ct)\n",
    "    \n",
    "def dycrptMessage():\n",
    "    a=var2.get()\n",
    "    #Ritesh\n",
    "    ct=onetimepad.decrypt(a,\"letupgrade\")\n",
    "    print(\"Working\",ct)\n",
    "    \n",
    "l1=Label(root,text=\"Plain Text\")\n",
    "l1.grid(row=0,column=0)\n",
    "\n",
    "l3=Label(root,text=\"Encrypted Text\")\n",
    "l3.grid(row=0,column=2)\n",
    "\n",
    "var= StringVar()\n",
    "e1 = Entry(root,textvariable=var)\n",
    "e1.grid(row=0,column=1)\n",
    "\n",
    "var2= StringVar()\n",
    "e3 = Entry(root,textvariable=var2)\n",
    "e3.grid(row=0,column=3)\n",
    "\n",
    "\n",
    "\n",
    "l2 = Label(root,text=\"Encypted Text\")\n",
    "l2.grid(row=1,column=0)\n",
    "\n",
    "l4 = Label(root,text=\"Plain Text\")\n",
    "l4.grid(row=1,column=2)\n",
    "\n",
    "\n",
    "e2 = Entry(root)\n",
    "e2.grid(row=1,column=1)\n",
    "\n",
    "e4 = Entry(root)\n",
    "e4.grid(row=1,column=3)\n",
    "\n",
    "b1 = Button(root,text=\"Encryption\",bg=\"blue\",fg=\"Red\",command=encryptMessage)\n",
    "b1.grid(row=2,column=1)\n",
    "\n",
    "b2 = Button(root,text=\"Dycrption\",bg=\"blue\",fg=\"Red\",command=dycrptMessage)\n",
    "b2.grid(row=2,column=3)\n",
    "\n",
    "\n",
    "\n",
    "\n",
    "root.mainloop()\n",
    "    "
   ]
  },
  {
   "cell_type": "code",
   "execution_count": null,
   "metadata": {},
   "outputs": [],
   "source": []
  }
 ],
 "metadata": {
  "kernelspec": {
   "display_name": "Python 3",
   "language": "python",
   "name": "python3"
  },
  "language_info": {
   "codemirror_mode": {
    "name": "ipython",
    "version": 3
   },
   "file_extension": ".py",
   "mimetype": "text/x-python",
   "name": "python",
   "nbconvert_exporter": "python",
   "pygments_lexer": "ipython3",
   "version": "3.8.3"
  }
 },
 "nbformat": 4,
 "nbformat_minor": 4
}
