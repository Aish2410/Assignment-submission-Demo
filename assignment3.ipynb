{
 "cells": [
  {
   "cell_type": "code",
   "execution_count": 2,
   "metadata": {},
   "outputs": [
    {
     "name": "stdout",
     "output_type": "stream",
     "text": [
      "14\n"
     ]
    }
   ],
   "source": [
    "def maximum(a, b, c): \n",
    "  \n",
    "    if (a >= b) and (a >= c): \n",
    "        largest = a \n",
    "  \n",
    "    elif (b >= a) and (b >= c): \n",
    "        largest = b \n",
    "    else: \n",
    "        largest = c \n",
    "          \n",
    "    return largest \n",
    "  \n",
    "  \n",
    "# Driven code  \n",
    "a = 10\n",
    "b = 14\n",
    "c = 12\n",
    "print(maximum(a, b, c)) \n"
   ]
  },
  {
   "cell_type": "code",
   "execution_count": 3,
   "metadata": {},
   "outputs": [
    {
     "name": "stdout",
     "output_type": "stream",
     "text": [
      "True\n"
     ]
    }
   ],
   "source": [
    "def isPalindrome(string):\n",
    "\tleft_pos = 0\n",
    "\tright_pos = len(string) - 1\n",
    "\t\n",
    "\twhile right_pos >= left_pos:\n",
    "\t\tif not string[left_pos] == string[right_pos]:\n",
    "\t\t\treturn False\n",
    "\t\tleft_pos += 1\n",
    "\t\tright_pos -= 1\n",
    "\treturn True\n",
    "print(isPalindrome('aza')) \n"
   ]
  },
  {
   "cell_type": "code",
   "execution_count": 5,
   "metadata": {},
   "outputs": [
    {
     "name": "stdout",
     "output_type": "stream",
     "text": [
      "Original String :  The quick Brown Fox\n",
      "No. of Upper case characters :  3\n",
      "No. of Lower case Characters :  13\n"
     ]
    }
   ],
   "source": [
    "def string_test(s):\n",
    "    d={\"UPPER_CASE\":0, \"LOWER_CASE\":0}\n",
    "    for c in s:\n",
    "        if c.isupper():\n",
    "           d[\"UPPER_CASE\"]+=1\n",
    "        elif c.islower():\n",
    "           d[\"LOWER_CASE\"]+=1\n",
    "        else:\n",
    "           pass\n",
    "    print (\"Original String : \", s)\n",
    "    print (\"No. of Upper case characters : \", d[\"UPPER_CASE\"])\n",
    "    print (\"No. of Lower case Characters : \", d[\"LOWER_CASE\"])\n",
    "\n",
    "string_test('The quick Brown Fox')"
   ]
  },
  {
   "cell_type": "code",
   "execution_count": 6,
   "metadata": {},
   "outputs": [
    {
     "name": "stdout",
     "output_type": "stream",
     "text": [
      "20\n"
     ]
    }
   ],
   "source": [
    "def sum(numbers):\n",
    "    total = 0\n",
    "    for x in numbers:\n",
    "        total += x\n",
    "    return total\n",
    "print(sum((8, 2, 3, 0, 7)))\n"
   ]
  },
  {
   "cell_type": "code",
   "execution_count": 7,
   "metadata": {},
   "outputs": [
    {
     "name": "stdout",
     "output_type": "stream",
     "text": [
      "-336\n"
     ]
    }
   ],
   "source": [
    "def multiply(numbers):  \n",
    "    total = 1\n",
    "    for x in numbers:\n",
    "        total *= x  \n",
    "    return total  \n",
    "print(multiply((8, 2, 3, -1, 7)))"
   ]
  },
  {
   "cell_type": "code",
   "execution_count": 8,
   "metadata": {},
   "outputs": [
    {
     "name": "stdout",
     "output_type": "stream",
     "text": [
      "Original List :  [10, 20, 30, 40, 20, 50, 60, 40]\n",
      "List of unique numbers :  [40, 10, 50, 20, 60, 30]\n"
     ]
    }
   ],
   "source": [
    "my_list = [10, 20, 30, 40, 20, 50, 60, 40]\n",
    "\n",
    "print(\"Original List : \",my_list)\n",
    "\n",
    "my_set = set(my_list)\n",
    "\n",
    "my_new_list = list(my_set)\n",
    "\n",
    "print(\"List of unique numbers : \",my_new_list)\n",
    "\n"
   ]
  },
  {
   "cell_type": "code",
   "execution_count": null,
   "metadata": {},
   "outputs": [],
   "source": []
  }
 ],
 "metadata": {
  "kernelspec": {
   "display_name": "Python 3",
   "language": "python",
   "name": "python3"
  },
  "language_info": {
   "codemirror_mode": {
    "name": "ipython",
    "version": 3
   },
   "file_extension": ".py",
   "mimetype": "text/x-python",
   "name": "python",
   "nbconvert_exporter": "python",
   "pygments_lexer": "ipython3",
   "version": "3.8.3"
  }
 },
 "nbformat": 4,
 "nbformat_minor": 4
}
