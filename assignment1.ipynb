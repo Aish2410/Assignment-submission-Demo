{
 "cells": [
  {
   "cell_type": "code",
   "execution_count": 14,
   "metadata": {},
   "outputs": [
    {
     "name": "stdout",
     "output_type": "stream",
     "text": [
      "result 0.26785714285714285\n"
     ]
    }
   ],
   "source": [
    "x=float(5)\n",
    "y=float(2*x+5)/(x**2+5*x+6)\n",
    "print(\"result\",y)"
   ]
  },
  {
   "cell_type": "code",
   "execution_count": 16,
   "metadata": {},
   "outputs": [
    {
     "name": "stdout",
     "output_type": "stream",
     "text": [
      "result is 3.7333333333333334\n"
     ]
    }
   ],
   "source": [
    "x=float(5)\n",
    "y=float(x**2+5*x+6)/(2*x+5)\n",
    "print(\"result is\",y)"
   ]
  },
  {
   "cell_type": "code",
   "execution_count": 18,
   "metadata": {},
   "outputs": [
    {
     "name": "stdout",
     "output_type": "stream",
     "text": [
      "result is 98.0\n"
     ]
    }
   ],
   "source": [
    "x=float(5)\n",
    "y=float(2*x-3)*(x+9)\n",
    "print(\"result is\",y)"
   ]
  },
  {
   "cell_type": "code",
   "execution_count": 14,
   "metadata": {},
   "outputs": [
    {
     "name": "stdout",
     "output_type": "stream",
     "text": [
      "Enter correct username and password combo to continue\n",
      "Enter username: India\n",
      "Enter password: IND\n",
      "Access denied. Try again.\n",
      "Enter username: INDIA\n",
      "Enter password: IND\n",
      "Access granted\n"
     ]
    }
   ],
   "source": [
    "print('Enter correct username and password combo to continue')\n",
    "count=0\n",
    "while count < 5:\n",
    "    username = input('Enter username: ')\n",
    "    password = input('Enter password: ')\n",
    "    if password=='IND' and username=='INDIA':\n",
    "        print('Access granted')\n",
    "        break\n",
    "    else:\n",
    "        print('Access denied. Try again.')\n",
    "        count += 1\n",
    "        if count>=5:\n",
    "            print(\"Your account will be blocked for 24hrs\")\n",
    "            break"
   ]
  },
  {
   "cell_type": "code",
   "execution_count": null,
   "metadata": {},
   "outputs": [],
   "source": []
  },
  {
   "cell_type": "code",
   "execution_count": null,
   "metadata": {},
   "outputs": [],
   "source": []
  },
  {
   "cell_type": "code",
   "execution_count": null,
   "metadata": {},
   "outputs": [],
   "source": []
  }
 ],
 "metadata": {
  "kernelspec": {
   "display_name": "Python 3",
   "language": "python",
   "name": "python3"
  },
  "language_info": {
   "codemirror_mode": {
    "name": "ipython",
    "version": 3
   },
   "file_extension": ".py",
   "mimetype": "text/x-python",
   "name": "python",
   "nbconvert_exporter": "python",
   "pygments_lexer": "ipython3",
   "version": "3.8.3"
  }
 },
 "nbformat": 4,
 "nbformat_minor": 4
}
